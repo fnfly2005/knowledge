{
 "cells": [
  {
   "cell_type": "code",
   "execution_count": null,
   "metadata": {},
   "outputs": [],
   "source": [
    "import os"
   ]
  },
  {
   "cell_type": "code",
   "execution_count": null,
   "metadata": {},
   "outputs": [],
   "source": [
    "#获取该目录下所有文件，存入列表中\n",
    "path='/mnt/h/downloads/xt/待编辑'\n",
    "fileList=os.listdir(path)\n",
    "\n",
    "n=0\n",
    "for i in fileList:\n",
    "    oldname=path + os.sep + i\n",
    "    newname=path + os.sep + i\n",
    "'''    \n",
    "    #设置旧文件名（就是路径+文件名）\n",
    "       # os.sep添加系统分隔符\n",
    "    \n",
    "    #设置新文件名\n",
    "    newname=path+ + os.sep +'a'+str(n+1)+'.JPG'\n",
    "    \n",
    "    os.rename(oldname,newname)   #用os模块中的rename方法对文件改名\n",
    "    print(oldname,'======>',newname)\n",
    "    \n",
    "    n+=1\n",
    "'''"
   ]
  }
 ],
 "metadata": {
  "kernelspec": {
   "display_name": "Python 3",
   "language": "python",
   "name": "python3"
  },
  "language_info": {
   "codemirror_mode": {
    "name": "ipython",
    "version": 3
   },
   "file_extension": ".py",
   "mimetype": "text/x-python",
   "name": "python",
   "nbconvert_exporter": "python",
   "pygments_lexer": "ipython3",
   "version": "3.7.6"
  },
  "toc": {
   "base_numbering": 1,
   "nav_menu": {},
   "number_sections": false,
   "sideBar": true,
   "skip_h1_title": false,
   "title_cell": "Table of Contents",
   "title_sidebar": "Contents",
   "toc_cell": false,
   "toc_position": {},
   "toc_section_display": true,
   "toc_window_display": false
  }
 },
 "nbformat": 4,
 "nbformat_minor": 2
}
