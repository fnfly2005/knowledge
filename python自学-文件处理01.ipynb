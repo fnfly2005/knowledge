{
 "cells": [
  {
   "cell_type": "code",
   "execution_count": null,
   "metadata": {},
   "outputs": [],
   "source": [
    "import os"
   ]
  },
  {
   "cell_type": "code",
   "execution_count": null,
   "metadata": {},
   "outputs": [],
   "source": [
    "sttest='00170-177cm极品'\n",
    "sttest.replace('001','01')"
   ]
  },
  {
   "cell_type": "code",
   "execution_count": null,
   "metadata": {},
   "outputs": [],
   "source": [
    "'''\n",
    "python\tos\tos.listdir()\tos.listdir()\n",
    "python\tos\tos.sep\tos.sep\n",
    "python\tstr\ts.startswith()\ts.startswith()\n",
    "python\tos\tos.rename()\tos.rename()\n",
    "python\tio\tTextIOBase\twrite()\n",
    "'''\n",
    "path='/mnt/h/downloads/xt/待编辑'\n",
    "fileList=os.listdir(path)\n",
    "\n",
    "n=23\n",
    "with open('/mnt/h/downloads/xt/test.txt','w') as f:    \n",
    "    for i in fileList:\n",
    "        if i.startswith('00'):\n",
    "            continue\n",
    "        oldname=path + os.sep + i\n",
    "        newname=path + os.sep + '00' + str(n) +i\n",
    "        f.write(i)\n",
    "        f.write('\\r\\n')\n",
    "        os.rename(oldname,newname)\n",
    "        n+=1"
   ]
  }
 ],
 "metadata": {
  "kernelspec": {
   "display_name": "Python 3",
   "language": "python",
   "name": "python3"
  },
  "language_info": {
   "codemirror_mode": {
    "name": "ipython",
    "version": 3
   },
   "file_extension": ".py",
   "mimetype": "text/x-python",
   "name": "python",
   "nbconvert_exporter": "python",
   "pygments_lexer": "ipython3",
   "version": "3.7.6"
  },
  "toc": {
   "base_numbering": 1,
   "nav_menu": {},
   "number_sections": false,
   "sideBar": true,
   "skip_h1_title": false,
   "title_cell": "Table of Contents",
   "title_sidebar": "Contents",
   "toc_cell": false,
   "toc_position": {},
   "toc_section_display": true,
   "toc_window_display": false
  }
 },
 "nbformat": 4,
 "nbformat_minor": 2
}
