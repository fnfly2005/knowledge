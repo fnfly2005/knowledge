{
 "cells": [
  {
   "cell_type": "code",
   "execution_count": null,
   "metadata": {},
   "outputs": [],
   "source": [
    "import pandas as pd"
   ]
  },
  {
   "cell_type": "code",
   "execution_count": null,
   "metadata": {},
   "outputs": [],
   "source": [
    "'''\n",
    "python\tpandas\tInput/Output\tpd.read_excel()\n",
    "'''\n",
    "df=pd.read_excel('../syc_data/knowledge/DataAnalysisInterviewExperience.xlsx')\n",
    "df.head()"
   ]
  },
  {
   "cell_type": "code",
   "execution_count": null,
   "metadata": {},
   "outputs": [],
   "source": [
    "'''\n",
    "统计面经By公司分布\n",
    "python\tpandas\tdataframe\td.loc[]\n",
    "python\tpandas\tdataframe\td.drop_duplicates()\n",
    "'''\n",
    "company=df.loc[:,['序号','公司']].drop_duplicates()\n",
    "company_aggr=company['公司'].value_counts()\n",
    "company_aggr.div(company_aggr.sum()).round(2)"
   ]
  },
  {
   "cell_type": "code",
   "execution_count": null,
   "metadata": {},
   "outputs": [],
   "source": [
    "category=df['分类'].value_counts()\n",
    "category.div(category.sum()).round(2)"
   ]
  },
  {
   "cell_type": "code",
   "execution_count": null,
   "metadata": {},
   "outputs": [],
   "source": [
    "'''\n",
    "5 \n",
    "python\tpandas\tdataframe\td.pivot_table() fill_value\n",
    "python\tpandas\tdataframe\td.sum()\n",
    "'''\n",
    "pivot_type=df.pivot_table(index='分类',columns='公司',values='序号',aggfunc='count',fill_value=0)\n",
    "pivot_type.div(pivot_type.sum()).round(2)"
   ]
  },
  {
   "cell_type": "code",
   "execution_count": null,
   "metadata": {},
   "outputs": [],
   "source": [
    "sta=df[df['分类']=='统计']['内容1'].value_counts()\n",
    "sta.div(sta.sum()).round(2)"
   ]
  },
  {
   "cell_type": "code",
   "execution_count": null,
   "metadata": {},
   "outputs": [],
   "source": [
    "business=df[df['分类']=='业务']\n",
    "pivot_bus=business.pivot_table(index='细分',columns='公司',values='序号',aggfunc='count',fill_value=0)\n",
    "pivot_pro=pivot_bus.div(pivot_bus.sum()).round(2)\n",
    "pivot_pro"
   ]
  },
  {
   "cell_type": "code",
   "execution_count": null,
   "metadata": {},
   "outputs": [],
   "source": [
    "'''\n",
    "python\tpandas\tdataframe\td.sum() axis\n",
    "python\tpandas\tseries\ts.sort_values()\n",
    "'''\n",
    "pivot_all=pivot_bus.sum(axis=1)\n",
    "pivot_all.sort_values(ascending=False).div(pivot_all.sum()).round(3)"
   ]
  },
  {
   "cell_type": "code",
   "execution_count": null,
   "metadata": {},
   "outputs": [],
   "source": [
    "'''\n",
    "5\n",
    "'''\n",
    "business_direction=business[business['细分']=='业务方向']\n",
    "pivot_busdir=business_direction.pivot_table(index='内容1',columns='公司',values='序号',aggfunc='count',fill_value=0)\n",
    "pivot_dirpro=pivot_busdir.div(pivot_busdir.sum()).round(2)\n",
    "pivot_dirpro"
   ]
  },
  {
   "cell_type": "code",
   "execution_count": null,
   "metadata": {},
   "outputs": [],
   "source": [
    "pivot_dirall=pivot_busdir.sum(axis=1)\n",
    "pivot_dirall.sort_values(ascending=False).div(pivot_dirall.sum()).round(3)"
   ]
  },
  {
   "cell_type": "code",
   "execution_count": null,
   "metadata": {},
   "outputs": [],
   "source": [
    "product=business_direction[business_direction['内容1']=='产品']['内容2'].value_counts()\n",
    "product.div(product.sum()).round(2)"
   ]
  },
  {
   "cell_type": "code",
   "execution_count": null,
   "metadata": {},
   "outputs": [],
   "source": [
    "monitor=business_direction[business_direction['内容1']=='业务监控']['内容2'].value_counts()\n",
    "monitor.div(monitor.sum()).round(2)"
   ]
  },
  {
   "cell_type": "code",
   "execution_count": null,
   "metadata": {},
   "outputs": [],
   "source": [
    "business_detail=business[business['细分']=='业务细节']\n",
    "pivot_busdet=business_detail.pivot_table(index='内容2',columns='公司',values='序号',aggfunc='count',fill_value=0)\n",
    "pivot_detall=pivot_busdet.sum(axis=1)\n",
    "pivot_detall.sort_values(ascending=False).div(pivot_detall.sum()).round(3)"
   ]
  },
  {
   "cell_type": "code",
   "execution_count": null,
   "metadata": {},
   "outputs": [],
   "source": [
    "'''\n",
    "5\n",
    "'''\n",
    "ace=df[df['分类']=='算法']\n",
    "ace['内容1'].value_counts()"
   ]
  }
 ],
 "metadata": {
  "kernelspec": {
   "display_name": "Python 3",
   "language": "python",
   "name": "python3"
  },
  "language_info": {
   "codemirror_mode": {
    "name": "ipython",
    "version": 3
   },
   "file_extension": ".py",
   "mimetype": "text/x-python",
   "name": "python",
   "nbconvert_exporter": "python",
   "pygments_lexer": "ipython3",
   "version": "3.7.1"
  },
  "toc": {
   "base_numbering": 1,
   "nav_menu": {},
   "number_sections": false,
   "sideBar": true,
   "skip_h1_title": false,
   "title_cell": "Table of Contents",
   "title_sidebar": "Contents",
   "toc_cell": false,
   "toc_position": {},
   "toc_section_display": true,
   "toc_window_display": false
  }
 },
 "nbformat": 4,
 "nbformat_minor": 4
}
